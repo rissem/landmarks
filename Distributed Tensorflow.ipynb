{
 "cells": [
  {
   "cell_type": "code",
   "execution_count": 7,
   "metadata": {},
   "outputs": [],
   "source": [
    "import spotty\n",
    "import tensorflow as tf\n",
    "import subprocess\n",
    "import tempfile\n",
    "import os\n",
    "import json\n",
    "import time\n",
    "import importlib"
   ]
  },
  {
   "cell_type": "code",
   "execution_count": 8,
   "metadata": {},
   "outputs": [
    {
     "data": {
      "text/plain": [
       "<module 'spotty' from '/home/ubuntu/landmarks/spotty.py'>"
      ]
     },
     "execution_count": 8,
     "metadata": {},
     "output_type": "execute_result"
    }
   ],
   "source": [
    "importlib.reload(spotty)"
   ]
  },
  {
   "cell_type": "code",
   "execution_count": 9,
   "metadata": {},
   "outputs": [
    {
     "data": {
      "text/plain": [
       "'1.21'"
      ]
     },
     "execution_count": 9,
     "metadata": {},
     "output_type": "execute_result"
    }
   ],
   "source": [
    "def get_price():\n",
    "    response = subprocess.run(['aws', 'ec2', 'describe-spot-price-history', '--instance-types', 'p3.2xlarge'], stdout=subprocess.PIPE, stderr=subprocess.PIPE)\n",
    "    history = json.loads(response.stdout.decode('utf-8'))\n",
    "    latest_price = list(filter(lambda x: x['AvailabilityZone'] == 'us-west-2a', history['SpotPriceHistory']))[0]['SpotPrice']\n",
    "    latest_price = float(latest_price)\n",
    "    return str(round(latest_price * 1.05, 2))\n",
    "\n",
    "bid_price = get_price()\n",
    "bid_price"
   ]
  },
  {
   "cell_type": "code",
   "execution_count": 4,
   "metadata": {},
   "outputs": [
    {
     "data": {
      "text/plain": [
       "'i-01140d8427ff03766'"
      ]
     },
     "execution_count": 4,
     "metadata": {},
     "output_type": "execute_result"
    }
   ],
   "source": [
    "# ami = \"ami-c91677b1\" most recent Amazon AMI\n",
    "ami = \"ami-880e64f0\" # above AMI w/ some extra python packages\n",
    "# instance_type=\"p2.xlarge\"\n",
    "instance_type=\"p3.2xlarge\"\n",
    "instance_spec = {\n",
    "    'ImageId': ami,\n",
    "    'KeyName': 'deep-oregon',\n",
    "    'SecurityGroupIds': ['sg-54b0802b'],\n",
    "    'InstanceType': instance_type,\n",
    "    'SubnetId':'subnet-29845850',\n",
    "    'Placement': {\n",
    "        'AvailabilityZone': 'us-west-2a'\n",
    "    }\n",
    "}\n",
    "with tempfile.NamedTemporaryFile() as f:\n",
    "    f.write(json.dumps(instance_spec).encode('utf-8'))\n",
    "    f.flush()\n",
    "    response = subprocess.run(['aws', 'ec2', 'request-spot-instances', '--instance-count', '1', \n",
    "                               '--spot-price', bid_price, '--launch-specification', \n",
    "                               'file://' + os.path.join(tempfile.gettempdir(), f.name), '--type', 'one-time'], \n",
    "                              stdout=subprocess.PIPE, stderr=subprocess.PIPE)\n",
    "\n",
    "error = response.stderr.decode('utf-8')\n",
    "if error: print('encountered error', error)\n",
    "result = response.stdout.decode('utf-8')\n",
    "result = json.loads(result)\n",
    "request_id = result['SpotInstanceRequests'][0]['SpotInstanceRequestId']\n",
    "instance_id = spotty.find_instance_id(request_id)\n",
    "instance_id"
   ]
  },
  {
   "cell_type": "code",
   "execution_count": 5,
   "metadata": {},
   "outputs": [
    {
     "name": "stdout",
     "output_type": "stream",
     "text": [
      "b'{\\n    \"AttachTime\": \"2018-06-01T18:21:12.307Z\",\\n    \"Device\": \"/dev/sdf\",\\n    \"InstanceId\": \"i-01140d8427ff03766\",\\n    \"State\": \"attaching\",\\n    \"VolumeId\": \"vol-023fe5bce0bc42fe3\"\\n}\\n'\n",
      "b''\n",
      "running commmand ['sudo', 'mkdir', '-p', '/data']\n",
      "STDOUT b''\n",
      "STDERR b\"Warning: Permanently added '52.42.10.2' (ECDSA) to the list of known hosts.\\r\\nsudo: unable to resolve host ip-172-30-0-250\\n\"\n",
      "running commmand ['sudo', 'mount', '/dev/xvdf', '/data']\n",
      "STDOUT b''\n",
      "STDERR b'sudo: unable to resolve host ip-172-30-0-250\\n'\n",
      "b'{\\n    \"AttachTime\": \"2018-06-01T18:21:35.794Z\",\\n    \"Device\": \"/dev/sdg\",\\n    \"InstanceId\": \"i-01140d8427ff03766\",\\n    \"State\": \"attaching\",\\n    \"VolumeId\": \"vol-095fa9b501c909d92\"\\n}\\n'\n",
      "b''\n",
      "running commmand ['sudo', 'mkdir', '-p', '/home/ubuntu/notebook']\n",
      "STDOUT b''\n",
      "STDERR b'sudo: unable to resolve host ip-172-30-0-250\\n'\n",
      "running commmand ['sudo', 'mount', '/dev/xvdg', '/home/ubuntu/notebook']\n",
      "STDOUT b''\n",
      "STDERR b'sudo: unable to resolve host ip-172-30-0-250\\n'\n"
     ]
    }
   ],
   "source": [
    "devices = [{'aws':'/dev/sdf', 'ubuntu': '/dev/xvdf', 'dir': '/data', 'volume_id': 'vol-023fe5bce0bc42fe3'},\n",
    "{'aws':'/dev/sdg', 'ubuntu': '/dev/xvdg', 'dir': '/home/ubuntu/notebook', 'volume_id':'vol-095fa9b501c909d92'}]\n",
    "for device in devices:\n",
    "    result = subprocess.run(['aws', 'ec2', 'attach-volume', '--volume-id', device['volume_id'], '--instance-id', instance_id, \"--device\", device['aws']], stdout=subprocess.PIPE, stderr=subprocess.PIPE)\n",
    "    print(result.stdout)\n",
    "    print(result.stderr)\n",
    "    #TODO use aws ec2 describe-volumes instead of error prone sleep\n",
    "    time.sleep(20)\n",
    "    spotty.run_command(instance_id, ['sudo', 'mkdir', '-p', device['dir']])\n",
    "    spotty.run_command(instance_id, ['sudo', 'mount', device['ubuntu'], device['dir']])"
   ]
  },
  {
   "cell_type": "code",
   "execution_count": 6,
   "metadata": {},
   "outputs": [
    {
     "data": {
      "text/plain": [
       "{'Reservations': [{'Groups': [],\n",
       "   'Instances': [{'AmiLaunchIndex': 0,\n",
       "     'Architecture': 'x86_64',\n",
       "     'BlockDeviceMappings': [{'DeviceName': '/dev/sda1',\n",
       "       'Ebs': {'AttachTime': '2018-06-01T18:20:07.000Z',\n",
       "        'DeleteOnTermination': True,\n",
       "        'Status': 'attached',\n",
       "        'VolumeId': 'vol-0434b10f29ae3f8aa'}},\n",
       "      {'DeviceName': '/dev/sdf',\n",
       "       'Ebs': {'AttachTime': '2018-06-01T18:21:12.000Z',\n",
       "        'DeleteOnTermination': False,\n",
       "        'Status': 'attached',\n",
       "        'VolumeId': 'vol-023fe5bce0bc42fe3'}},\n",
       "      {'DeviceName': '/dev/sdg',\n",
       "       'Ebs': {'AttachTime': '2018-06-01T18:21:35.000Z',\n",
       "        'DeleteOnTermination': False,\n",
       "        'Status': 'attached',\n",
       "        'VolumeId': 'vol-095fa9b501c909d92'}}],\n",
       "     'ClientToken': 'ea1edd8c67feead93fd3f2240a17eb9539bb4a3445f15118b81a0ca11bf3',\n",
       "     'EbsOptimized': False,\n",
       "     'EnaSupport': True,\n",
       "     'Hypervisor': 'xen',\n",
       "     'ImageId': 'ami-880e64f0',\n",
       "     'InstanceId': 'i-01140d8427ff03766',\n",
       "     'InstanceLifecycle': 'spot',\n",
       "     'InstanceType': 'p3.2xlarge',\n",
       "     'KeyName': 'deep-oregon',\n",
       "     'LaunchTime': '2018-06-01T18:20:06.000Z',\n",
       "     'Monitoring': {'State': 'disabled'},\n",
       "     'NetworkInterfaces': [{'Association': {'IpOwnerId': 'amazon',\n",
       "        'PublicDnsName': '',\n",
       "        'PublicIp': '52.42.10.2'},\n",
       "       'Attachment': {'AttachTime': '2018-06-01T18:20:06.000Z',\n",
       "        'AttachmentId': 'eni-attach-a2b09edc',\n",
       "        'DeleteOnTermination': True,\n",
       "        'DeviceIndex': 0,\n",
       "        'Status': 'attached'},\n",
       "       'Description': '',\n",
       "       'Groups': [{'GroupId': 'sg-54b0802b', 'GroupName': 'launch-wizard-1'}],\n",
       "       'Ipv6Addresses': [],\n",
       "       'MacAddress': '02:3c:6b:11:d2:9c',\n",
       "       'NetworkInterfaceId': 'eni-ec1ba8d4',\n",
       "       'OwnerId': '801300443448',\n",
       "       'PrivateIpAddress': '172.30.0.250',\n",
       "       'PrivateIpAddresses': [{'Association': {'IpOwnerId': 'amazon',\n",
       "          'PublicDnsName': '',\n",
       "          'PublicIp': '52.42.10.2'},\n",
       "         'Primary': True,\n",
       "         'PrivateIpAddress': '172.30.0.250'}],\n",
       "       'SourceDestCheck': True,\n",
       "       'Status': 'in-use',\n",
       "       'SubnetId': 'subnet-29845850',\n",
       "       'VpcId': 'vpc-a81977d1'}],\n",
       "     'Placement': {'AvailabilityZone': 'us-west-2a',\n",
       "      'GroupName': '',\n",
       "      'Tenancy': 'default'},\n",
       "     'PrivateDnsName': 'ip-172-30-0-250.us-west-2.compute.internal',\n",
       "     'PrivateIpAddress': '172.30.0.250',\n",
       "     'ProductCodes': [],\n",
       "     'PublicDnsName': '',\n",
       "     'PublicIpAddress': '52.42.10.2',\n",
       "     'RootDeviceName': '/dev/sda1',\n",
       "     'RootDeviceType': 'ebs',\n",
       "     'SecurityGroups': [{'GroupId': 'sg-54b0802b',\n",
       "       'GroupName': 'launch-wizard-1'}],\n",
       "     'SourceDestCheck': True,\n",
       "     'SpotInstanceRequestId': 'sir-73iibmgp',\n",
       "     'State': {'Code': 16, 'Name': 'running'},\n",
       "     'StateTransitionReason': '',\n",
       "     'SubnetId': 'subnet-29845850',\n",
       "     'VirtualizationType': 'hvm',\n",
       "     'VpcId': 'vpc-a81977d1'}],\n",
       "   'OwnerId': '801300443448',\n",
       "   'RequesterId': '257867366987',\n",
       "   'ReservationId': 'r-040795758c0097453'}]}"
      ]
     },
     "execution_count": 6,
     "metadata": {},
     "output_type": "execute_result"
    }
   ],
   "source": [
    "spotty.describe_instance(instance_id)"
   ]
  },
  {
   "cell_type": "code",
   "execution_count": null,
   "metadata": {},
   "outputs": [],
   "source": []
  }
 ],
 "metadata": {
  "kernelspec": {
   "display_name": "Environment (conda_tensorflow_p36)",
   "language": "python",
   "name": "conda_tensorflow_p36"
  },
  "language_info": {
   "codemirror_mode": {
    "name": "ipython",
    "version": 3
   },
   "file_extension": ".py",
   "mimetype": "text/x-python",
   "name": "python",
   "nbconvert_exporter": "python",
   "pygments_lexer": "ipython3",
   "version": "3.6.4"
  }
 },
 "nbformat": 4,
 "nbformat_minor": 2
}
